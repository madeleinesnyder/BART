{
 "cells": [
  {
   "cell_type": "markdown",
   "metadata": {},
   "source": [
    "# This notebook parses behavioral data files and compiles individual subject data. \n",
    " 1. BEFORE running this script, run kids_subjectlist.ipynb (to be created) to examine the meta-data. This script can only be run on your local machine with Box mounted because it contains PHI and PII. \n",
    " 2. For this specified subjectlist, load each subject's taskdesign file and create a csv of basic stats for each trial (number of pumps, trial type, history effect, pump X reaction time).\n",
    " 3. Concatinate these csvs into a dataframe:\n",
    " \n",
    "     PID,Trial,NumPumps,TT,HE,1_RT,2_RT,3_RT,4_RT,5_RT,6_RT,7_RT\n",
    "     777511,2.0,7.0,2.0,5.0,555.0,316.0,461.0,459.0,326.0,476.0,288.0"
   ]
  },
  {
   "cell_type": "code",
   "execution_count": 119,
   "metadata": {},
   "outputs": [],
   "source": [
    "# Import libraries\n",
    "import pandas as pd\n",
    "import numpy as np\n",
    "import scipy as sp\n",
    "import os\n",
    "import os.path as op\n",
    "import sys\n",
    "import csv\n",
    "from subprocess import call\n",
    "import pdb\n",
    "from matplotlib import pyplot as plt\n",
    "import statsmodels as sm\n",
    "import sklearn"
   ]
  },
  {
   "cell_type": "markdown",
   "metadata": {},
   "source": [
    "# Preprocessing"
   ]
  },
  {
   "cell_type": "code",
   "execution_count": 120,
   "metadata": {},
   "outputs": [],
   "source": [
    "# Define functions \n",
    "\n",
    "# 0 - lose, 3 - trash, 1 - win, 2 - cashout\n",
    "def boolfunc12(aa,bb):\n",
    "        if aa == 1 and bb == 1:\n",
    "                return 0\n",
    "        elif aa == 1 and bb == 0:\n",
    "                return 3\n",
    "        elif aa == 2:\n",
    "                return 3\n",
    "        elif aa == 0 and bb == 1:\n",
    "                return 1\n",
    "        elif aa == 0 and bb == 2:\n",
    "                return 2\n",
    "\n",
    "def boolfunc23(aa,bb):\n",
    "        if aa == 1 and bb == 2:\n",
    "                return 0\n",
    "        elif aa == 2:\n",
    "                return 3\n",
    "        elif aa == 0 and bb == 2:\n",
    "                return 1\n",
    "        elif aa == 0 and bb == 3:\n",
    "                return 2\n",
    "\n",
    "def boolfunc13(aa,bb):\n",
    "        if aa == 1 and bb == 1:\n",
    "                return 0\n",
    "        elif aa == 1 and bb == 0:\n",
    "                return 3\n",
    "        elif aa == 2:\n",
    "                return 3\n",
    "        elif aa == 0 and bb == 1:\n",
    "                return 1\n",
    "        elif aa == 0 and bb == 3:\n",
    "                return 2\n",
    "            \n",
    "def AAP(dataframe,PID):\n",
    "    temp = []\n",
    "    for i,row in dataframe.iterrows():\n",
    "        if row['PID'] == PID:\n",
    "            if row['TT'] != 0:\n",
    "                temp.append(row['NumPumps'])\n",
    "    AAP = np.mean(temp)\n",
    "    return AAP\n",
    "\n",
    "def ABP(dataframe,PID):\n",
    "    trials,temp,pops = [],[],[]\n",
    "    for i,row in dataframe.iterrows():\n",
    "        if row['PID'] == PID:\n",
    "            trials.append(row['TT'])\n",
    "            if row['TT'] == 0:\n",
    "                pops.append(1)\n",
    "    ABP = len(pops)\n",
    "    FBP = float(len(pops))/float(len(trials))\n",
    "    BN = len(trials)\n",
    "    return ABP,FBP,BN\n",
    "\n",
    "def RT(dataframe,PID):\n",
    "    RTs = []\n",
    "    RTs.append(np.mean(dataframe[dataframe['PID'] == PID]['1_RT']))\n",
    "    RTs.append(np.mean(dataframe[dataframe['PID'] == PID]['2_RT']))\n",
    "    RTs.append(np.mean(dataframe[dataframe['PID'] == PID]['3_RT']))\n",
    "    RTs.append(np.mean(dataframe[dataframe['PID'] == PID]['4_RT']))\n",
    "    RTs.append(np.mean(dataframe[dataframe['PID'] == PID]['5_RT']))\n",
    "    RTs.append(np.mean(dataframe[dataframe['PID'] == PID]['6_RT']))\n",
    "    RTs.append(np.mean(dataframe[dataframe['PID'] == PID]['7_RT']))\n",
    "    return RTs"
   ]
  },
  {
   "cell_type": "code",
   "execution_count": 121,
   "metadata": {},
   "outputs": [],
   "source": [
    "# Load in the subjectlist\n",
    "\n",
    "##### Specify the subjectlist path ####\n",
    "subjectlist = '/Users/shreyasbharadwaj/Desktop/subjectlist.csv'\n",
    "#### Specify the number of trials per participant (kids avg 15) ####\n",
    "num_trials = 15\n",
    "#### Specify the root path to the project ####\n",
    "root_path = '/Users/shreyasbharadwaj/Desktop'\n",
    "\n",
    "subdf = pd.read_csv(subjectlist)\n",
    "sublist = []\n",
    "\n",
    "for i,sub in subdf.iterrows():\n",
    "    sublist.append(str(sub[0])) # +'_'+str(sub[1])+'_'+str(sub[2]))\n",
    "         "
   ]
  },
  {
   "cell_type": "code",
   "execution_count": 122,
   "metadata": {},
   "outputs": [
    {
     "name": "stdout",
     "output_type": "stream",
     "text": [
      "7775\n",
      "==== Making Trialtype column ====\n",
      "==== Making HistEffect column ====\n",
      "7776\n",
      "==== Making Trialtype column ====\n",
      "==== Making HistEffect column ====\n",
      "7787\n",
      "==== Making Trialtype column ====\n",
      "==== Making HistEffect column ====\n"
     ]
    }
   ],
   "source": [
    "# For each subject, create their HACRT file\n",
    "\n",
    "for i,sub in enumerate(sublist):\n",
    "    altsub = sub.split('_')\n",
    "    altsub = ''.join(altsub)\n",
    "    bx_path = op.join(root_path)\n",
    "    if op.exists(bx_path) == False:\n",
    "        print(\"Oh well, no behavioral data for: \"+str(sub))\n",
    "        continue\n",
    "    sub_tsv = os.listdir(bx_path)\n",
    "    for tsv in sub_tsv:\n",
    "        if tsv == 'behavioral_BART_7775.tsv':\n",
    "            bx_df = pd.read_csv(op.join(bx_path,tsv),sep='\\t')\n",
    "            bx_df['PumpNum_Shift'] = bx_df['PumpNum'].shift(1)\n",
    "            pumpnum_zero = []\n",
    "            for e,r in bx_df.iterrows():\n",
    "                if r['PumpNum'] != 0:\n",
    "                    pumpnum_zero.append(r['PumpNum'])\n",
    "                else:\n",
    "                    pumpnum_zero.append(r['PumpNum_Shift']+1)\n",
    "            bx_df['PumpNum_nonzero'] = pumpnum_zero\n",
    "            use_bool = set()\n",
    "            env_resp = 'IsBlow'\n",
    "            sub_choice = 'PumpStep.RESP'\n",
    "            hist_tracker = []\n",
    "            for w in bx_df.iterrows():\n",
    "                try:\n",
    "                    use_bool.add(int(w[1][sub_choice]))\n",
    "                except:\n",
    "                    pass\n",
    "                  \n",
    "            print(sub)\n",
    "            print(\"==== Making Trialtype column ====\")\n",
    "            if 2 in use_bool and 1 in use_bool:\n",
    "                bx_df['TrialType'] = bx_df.apply(lambda row: boolfunc12(row[env_resp],row[sub_choice]),axis=1)\n",
    "            elif 2 in use_bool and 3 in use_bool:\n",
    "                bx_df['TrialType'] = bx_df.apply(lambda row: boolfunc23(row[env_resp],row[sub_choice]),axis=1)\n",
    "            elif 1 in use_bool and 3 in use_bool:\n",
    "                bx_df['TrialType'] = bx_df.apply(lambda row: boolfunc13(row[env_resp],row[sub_choice]),axis=1)\n",
    "            else:\n",
    "                continue\n",
    "            \n",
    "            reaction_times = np.zeros((14,15))\n",
    "            \n",
    "            x = 0\n",
    "            for e,r in bx_df.iterrows():\n",
    "                x = r['BalloonList.Sample'] - 1\n",
    "                if(r['PumpNum'] == 0):\n",
    "                    reaction_times[int(x)][int(7+r['PumpNum_Shift'])+1] = r['PumpStep.RT']\n",
    "                else:\n",
    "                    reaction_times[int(x)][int(r['PumpList.Sample'] - 1)] = r['PumpStep.RT']\n",
    "            \n",
    "            print(\"==== Making HistEffect column ====\")\n",
    "            bx_df['TrialShift'] = bx_df['Trial'].shift(-1)\n",
    "            dragon = 0\n",
    "            for p in bx_df.iterrows():\n",
    "                hist_tracker.append(dragon)\n",
    "                if p[1]['IsBlow'] == 1 and p[1]['TrialShift'] != p[1]['Trial']+1:\n",
    "                    dragon = 5\n",
    "                elif p[1]['IsBlow'] == 0 and p[1]['TrialShift'] != p[1]['Trial']+1:\n",
    "                    dragon = 3\n",
    "            se = pd.Series(hist_tracker)\n",
    "            bx_df['HE'] = se.values\n",
    "            sub_IP = np.zeros((14,19)) # (create 14 x 4 array)\n",
    "            for x in range(int(bx_df['Block'][-1:])):\n",
    "                for j,row in bx_df.iterrows():\n",
    "                    if row['Block'] == x+1:\n",
    "                        try:\n",
    "                            sub_IP[x,0] = int(row['Block'])\n",
    "                            sub_IP[x,1] = int(row['PumpNum_nonzero'])\n",
    "                            sub_IP[x,2] = int(row['TrialType'])\n",
    "                            sub_IP[x,3] = int(row['HE'])\n",
    "                        except:\n",
    "                            pass\n",
    "                    else:\n",
    "                        continue\n",
    "            for i in range(14):\n",
    "                for j in range(15):\n",
    "                    sub_IP[i,j+4] = reaction_times[i,j]\n",
    "                with open(op.join(root_path,'HACRT_'+altsub+'.csv'),'w') as csvfile:\n",
    "                    wwriter = csv.writer(csvfile,delimiter=',')\n",
    "                    wwriter.writerow(['Trial','NumPumps','TT','HE','1_RT','2_RT','3_RT','4_RT','5_RT','6_RT','7_RT','8_RT',\"RT1_CO\",\"RT2_CO\",\"RT3_CO\",\"RT4_CO\",\"RT5_CO\",\"RT6_CO\",\"RT7_CO\"])\n",
    "                    for i in range(len(sub_IP)):\n",
    "                        wwriter.writerow(list(sub_IP[i]))\n"
   ]
  },
  {
   "cell_type": "code",
   "execution_count": 123,
   "metadata": {},
   "outputs": [
    {
     "name": "stdout",
     "output_type": "stream",
     "text": [
      "7775\n",
      "7776\n",
      "7787\n",
      "    Trial  NumPumps   TT   HE    1_RT    2_RT    3_RT    4_RT   5_RT    6_RT  \\\n",
      "0     1.0       8.0  0.0  0.0   475.0   473.0   376.0   589.0  544.0   579.0   \n",
      "1     2.0       7.0  2.0  5.0   555.0   316.0   461.0   459.0  326.0   476.0   \n",
      "2     3.0       6.0  0.0  3.0   405.0   394.0   366.0   664.0  352.0   400.0   \n",
      "3     4.0       2.0  0.0  5.0   729.0   425.0     0.0     0.0    0.0     0.0   \n",
      "4     5.0       7.0  2.0  5.0   806.0  1913.0  1951.0   972.0  570.0   622.0   \n",
      "5     6.0       6.0  2.0  3.0   634.0   576.0   478.0   634.0  725.0     0.0   \n",
      "6     7.0       4.0  0.0  3.0  1454.0   519.0   458.0   432.0    0.0     0.0   \n",
      "7     8.0       7.0  2.0  5.0   692.0   455.0  1054.0   862.0  464.0  1101.0   \n",
      "8     9.0       4.0  2.0  3.0   890.0   584.0   915.0     0.0    0.0     0.0   \n",
      "9    10.0       2.0  0.0  3.0   459.0   380.0     0.0     0.0    0.0     0.0   \n",
      "10   11.0       7.0  2.0  5.0   500.0   770.0   640.0   797.0  668.0  1266.0   \n",
      "11   12.0       4.0  2.0  3.0   832.0  1475.0   907.0     0.0    0.0     0.0   \n",
      "12   13.0       5.0  2.0  3.0   778.0   603.0   581.0  1447.0    0.0     0.0   \n",
      "13   14.0       2.0  0.0  3.0  1268.0   895.0     0.0     0.0    0.0     0.0   \n",
      "0     1.0       8.0  0.0  0.0   475.0   473.0   376.0   589.0  544.0   579.0   \n",
      "1     2.0       7.0  2.0  5.0   555.0   316.0   461.0   459.0  326.0   476.0   \n",
      "2     3.0       6.0  0.0  3.0   405.0   394.0   366.0   664.0  352.0   400.0   \n",
      "3     4.0       2.0  0.0  5.0   729.0   425.0     0.0     0.0    0.0     0.0   \n",
      "4     5.0       7.0  2.0  5.0   806.0  1913.0  1951.0   972.0  570.0   622.0   \n",
      "5     6.0       6.0  2.0  3.0   634.0   576.0   478.0   634.0  725.0     0.0   \n",
      "6     7.0       4.0  0.0  3.0  1454.0   519.0   458.0   432.0    0.0     0.0   \n",
      "7     8.0       7.0  2.0  5.0   692.0   455.0  1054.0   862.0  464.0  1101.0   \n",
      "8     9.0       4.0  2.0  3.0   890.0   584.0   915.0     0.0    0.0     0.0   \n",
      "9    10.0       2.0  0.0  3.0   459.0   380.0     0.0     0.0    0.0     0.0   \n",
      "10   11.0       7.0  2.0  5.0   500.0   770.0   640.0   797.0  668.0  1266.0   \n",
      "11   12.0       4.0  2.0  3.0   832.0  1475.0   907.0     0.0    0.0     0.0   \n",
      "12   13.0       5.0  2.0  3.0   778.0   603.0   581.0  1447.0    0.0     0.0   \n",
      "13   14.0       2.0  0.0  3.0  1268.0   895.0     0.0     0.0    0.0     0.0   \n",
      "0     1.0       8.0  0.0  0.0   475.0   473.0   376.0   589.0  544.0   579.0   \n",
      "1     2.0       7.0  2.0  5.0   555.0   316.0   461.0   459.0  326.0   476.0   \n",
      "2     3.0       6.0  0.0  3.0   405.0   394.0   366.0   664.0  352.0   400.0   \n",
      "3     4.0       2.0  0.0  5.0   729.0   425.0     0.0     0.0    0.0     0.0   \n",
      "4     5.0       7.0  2.0  5.0   806.0  1913.0  1951.0   972.0  570.0   622.0   \n",
      "5     6.0       6.0  2.0  3.0   634.0   576.0   478.0   634.0  725.0     0.0   \n",
      "6     7.0       4.0  0.0  3.0  1454.0   519.0   458.0   432.0    0.0     0.0   \n",
      "7     8.0       7.0  2.0  5.0   692.0   455.0  1054.0   862.0  464.0  1101.0   \n",
      "8     9.0       4.0  2.0  3.0   890.0   584.0   915.0     0.0    0.0     0.0   \n",
      "9    10.0       2.0  0.0  3.0   459.0   380.0     0.0     0.0    0.0     0.0   \n",
      "10   11.0       7.0  2.0  5.0   500.0   770.0   640.0   797.0  668.0  1266.0   \n",
      "11   12.0       4.0  2.0  3.0   832.0  1475.0   907.0     0.0    0.0     0.0   \n",
      "12   13.0       5.0  2.0  3.0   778.0   603.0   581.0  1447.0    0.0     0.0   \n",
      "13   14.0       2.0  0.0  3.0  1268.0   895.0     0.0     0.0    0.0     0.0   \n",
      "\n",
      "      ...      BP       FBP  BN      avgRT1      avgRT2      avgRT3  \\\n",
      "0     ...       6  0.428571  14  748.357143  698.428571  584.785714   \n",
      "1     ...       6  0.428571  14  748.357143  698.428571  584.785714   \n",
      "2     ...       6  0.428571  14  748.357143  698.428571  584.785714   \n",
      "3     ...       6  0.428571  14  748.357143  698.428571  584.785714   \n",
      "4     ...       6  0.428571  14  748.357143  698.428571  584.785714   \n",
      "5     ...       6  0.428571  14  748.357143  698.428571  584.785714   \n",
      "6     ...       6  0.428571  14  748.357143  698.428571  584.785714   \n",
      "7     ...       6  0.428571  14  748.357143  698.428571  584.785714   \n",
      "8     ...       6  0.428571  14  748.357143  698.428571  584.785714   \n",
      "9     ...       6  0.428571  14  748.357143  698.428571  584.785714   \n",
      "10    ...       6  0.428571  14  748.357143  698.428571  584.785714   \n",
      "11    ...       6  0.428571  14  748.357143  698.428571  584.785714   \n",
      "12    ...       6  0.428571  14  748.357143  698.428571  584.785714   \n",
      "13    ...       6  0.428571  14  748.357143  698.428571  584.785714   \n",
      "0     ...       6  0.428571  14  748.357143  698.428571  584.785714   \n",
      "1     ...       6  0.428571  14  748.357143  698.428571  584.785714   \n",
      "2     ...       6  0.428571  14  748.357143  698.428571  584.785714   \n",
      "3     ...       6  0.428571  14  748.357143  698.428571  584.785714   \n",
      "4     ...       6  0.428571  14  748.357143  698.428571  584.785714   \n",
      "5     ...       6  0.428571  14  748.357143  698.428571  584.785714   \n",
      "6     ...       6  0.428571  14  748.357143  698.428571  584.785714   \n",
      "7     ...       6  0.428571  14  748.357143  698.428571  584.785714   \n",
      "8     ...       6  0.428571  14  748.357143  698.428571  584.785714   \n",
      "9     ...       6  0.428571  14  748.357143  698.428571  584.785714   \n",
      "10    ...       6  0.428571  14  748.357143  698.428571  584.785714   \n",
      "11    ...       6  0.428571  14  748.357143  698.428571  584.785714   \n",
      "12    ...       6  0.428571  14  748.357143  698.428571  584.785714   \n",
      "13    ...       6  0.428571  14  748.357143  698.428571  584.785714   \n",
      "0     ...       6  0.428571  14  748.357143  698.428571  584.785714   \n",
      "1     ...       6  0.428571  14  748.357143  698.428571  584.785714   \n",
      "2     ...       6  0.428571  14  748.357143  698.428571  584.785714   \n",
      "3     ...       6  0.428571  14  748.357143  698.428571  584.785714   \n",
      "4     ...       6  0.428571  14  748.357143  698.428571  584.785714   \n",
      "5     ...       6  0.428571  14  748.357143  698.428571  584.785714   \n",
      "6     ...       6  0.428571  14  748.357143  698.428571  584.785714   \n",
      "7     ...       6  0.428571  14  748.357143  698.428571  584.785714   \n",
      "8     ...       6  0.428571  14  748.357143  698.428571  584.785714   \n",
      "9     ...       6  0.428571  14  748.357143  698.428571  584.785714   \n",
      "10    ...       6  0.428571  14  748.357143  698.428571  584.785714   \n",
      "11    ...       6  0.428571  14  748.357143  698.428571  584.785714   \n",
      "12    ...       6  0.428571  14  748.357143  698.428571  584.785714   \n",
      "13    ...       6  0.428571  14  748.357143  698.428571  584.785714   \n",
      "\n",
      "        avgRT4      avgRT5      avgRT6     avgRT7  \n",
      "0   489.714286  260.642857  317.428571  29.642857  \n",
      "1   489.714286  260.642857  317.428571  29.642857  \n",
      "2   489.714286  260.642857  317.428571  29.642857  \n",
      "3   489.714286  260.642857  317.428571  29.642857  \n",
      "4   489.714286  260.642857  317.428571  29.642857  \n",
      "5   489.714286  260.642857  317.428571  29.642857  \n",
      "6   489.714286  260.642857  317.428571  29.642857  \n",
      "7   489.714286  260.642857  317.428571  29.642857  \n",
      "8   489.714286  260.642857  317.428571  29.642857  \n",
      "9   489.714286  260.642857  317.428571  29.642857  \n",
      "10  489.714286  260.642857  317.428571  29.642857  \n",
      "11  489.714286  260.642857  317.428571  29.642857  \n",
      "12  489.714286  260.642857  317.428571  29.642857  \n",
      "13  489.714286  260.642857  317.428571  29.642857  \n",
      "0   489.714286  260.642857  317.428571  29.642857  \n",
      "1   489.714286  260.642857  317.428571  29.642857  \n",
      "2   489.714286  260.642857  317.428571  29.642857  \n",
      "3   489.714286  260.642857  317.428571  29.642857  \n",
      "4   489.714286  260.642857  317.428571  29.642857  \n",
      "5   489.714286  260.642857  317.428571  29.642857  \n",
      "6   489.714286  260.642857  317.428571  29.642857  \n",
      "7   489.714286  260.642857  317.428571  29.642857  \n",
      "8   489.714286  260.642857  317.428571  29.642857  \n",
      "9   489.714286  260.642857  317.428571  29.642857  \n",
      "10  489.714286  260.642857  317.428571  29.642857  \n",
      "11  489.714286  260.642857  317.428571  29.642857  \n",
      "12  489.714286  260.642857  317.428571  29.642857  \n",
      "13  489.714286  260.642857  317.428571  29.642857  \n",
      "0   489.714286  260.642857  317.428571  29.642857  \n",
      "1   489.714286  260.642857  317.428571  29.642857  \n",
      "2   489.714286  260.642857  317.428571  29.642857  \n",
      "3   489.714286  260.642857  317.428571  29.642857  \n",
      "4   489.714286  260.642857  317.428571  29.642857  \n",
      "5   489.714286  260.642857  317.428571  29.642857  \n",
      "6   489.714286  260.642857  317.428571  29.642857  \n",
      "7   489.714286  260.642857  317.428571  29.642857  \n",
      "8   489.714286  260.642857  317.428571  29.642857  \n",
      "9   489.714286  260.642857  317.428571  29.642857  \n",
      "10  489.714286  260.642857  317.428571  29.642857  \n",
      "11  489.714286  260.642857  317.428571  29.642857  \n",
      "12  489.714286  260.642857  317.428571  29.642857  \n",
      "13  489.714286  260.642857  317.428571  29.642857  \n",
      "\n",
      "[42 rows x 31 columns]\n"
     ]
    }
   ],
   "source": [
    "# Read in all the HACRT files, concatinate them, and calculate ABP, BP, FBP\n",
    "\n",
    "HACRT_list = []\n",
    "\n",
    "for sub in sublist:\n",
    "    print(sub)\n",
    "    HACRT_path = op.join(root_path,'HACRT_'+sub[0:4]+'.csv')\n",
    "    HACRT_list.append(HACRT_path)\n",
    "    \n",
    "GroupHACRT = pd.DataFrame()\n",
    "list_ = []\n",
    "for HAC in HACRT_list:\n",
    "    PID = HAC[-10:-4]\n",
    "    df = pd.read_csv(HAC,index_col=None, header=0)\n",
    "    df['PID'] = PID\n",
    "    df['AAP'] = AAP(df,PID)\n",
    "    df['BP'] = ABP(df,PID)[0]\n",
    "    df['FBP'] = ABP(df,PID)[1]\n",
    "    df['BN'] = ABP(df,PID)[2]\n",
    "    df['avgRT1'] = RT(df,PID)[0]\n",
    "    df['avgRT2'] = RT(df,PID)[1]\n",
    "    df['avgRT3'] = RT(df,PID)[2]\n",
    "    df['avgRT4'] = RT(df,PID)[3]\n",
    "    df['avgRT5'] = RT(df,PID)[4]\n",
    "    df['avgRT6'] = RT(df,PID)[5]\n",
    "    df['avgRT7'] = RT(df,PID)[6]\n",
    "    list_.append(df)\n",
    "GroupHACRT = pd.concat(list_)\n",
    "\n",
    "print(GroupHACRT)"
   ]
  },
  {
   "cell_type": "markdown",
   "metadata": {},
   "source": [
    "# Basic Analysis "
   ]
  },
  {
   "cell_type": "code",
   "execution_count": 124,
   "metadata": {},
   "outputs": [
    {
     "name": "stdout",
     "output_type": "stream",
     "text": [
      " Average Adjusted Pumps across all subjects: 5.875\n",
      " Average number of balloons popped across all subjects: 6.0\n",
      " Average fraction of balloons popped across all subjects: 0.4285714285714285\n",
      " Average number of balloons across all subjects: 14.0\n",
      "748.3571428571429\n",
      "698.4285714285716\n",
      "260.64285714285717\n"
     ]
    },
    {
     "data": {
      "image/png": "[encoded data removed]",
      "text/plain": [
       "<Figure size 432x288 with 1 Axes>"
      ]
     },
     "metadata": {},
     "output_type": "display_data"
    }
   ],
   "source": [
    "# Average AAP,BP,FBP group averages of below per-subject measures\n",
    "\n",
    "# AAP = average adjusted pumps (avg number of pumps on non-popped balloons)\n",
    "# BP = number of balloons popped\n",
    "# FBP = fraction of balloons popped out of all balloons \n",
    "# BN = number of balloon trials \n",
    "\n",
    "GroupAAP = np.mean(GroupHACRT['AAP'])\n",
    "GroupBP = np.mean(GroupHACRT['BP'])\n",
    "GroupFBP = np.mean(GroupHACRT['FBP'])\n",
    "GroupBN = np.mean(GroupHACRT['BN'])\n",
    "\n",
    "print(\" Average Adjusted Pumps across all subjects: \"+str(GroupAAP))\n",
    "print(\" Average number of balloons popped across all subjects: \"+str(GroupBP))\n",
    "print(\" Average fraction of balloons popped across all subjects: \"+str(GroupFBP))\n",
    "print(\" Average number of balloons across all subjects: \"+str(GroupBN))\n",
    "\n",
    "# Average reaction time for ith pump\n",
    "\n",
    "GroupRT1 = np.mean(GroupHACRT['avgRT1'])\n",
    "GroupRT2 = np.mean(GroupHACRT['avgRT2'])\n",
    "GroupRT3 = np.mean(GroupHACRT['avgRT3'])\n",
    "GroupRT4 = np.mean(GroupHACRT['avgRT4'])\n",
    "GroupRT5 = np.mean(GroupHACRT['avgRT5'])\n",
    "GroupRT6 = np.mean(GroupHACRT['avgRT6'])\n",
    "GroupRT7 = np.mean(GroupHACRT['avgRT7'])\n",
    "\n",
    "print(GroupRT1)\n",
    "print(GroupRT2)\n",
    "print(GroupRT5)\n",
    "plt.plot([GroupRT1,GroupRT2,GroupRT3,GroupRT4,GroupRT5,GroupRT6,GroupRT7])\n",
    "plt.xlabel('ith Pump')\n",
    "plt.ylabel('RT (ms)')\n",
    "plt.show()\n"
   ]
  },
  {
   "cell_type": "code",
   "execution_count": 125,
   "metadata": {},
   "outputs": [
    {
     "data": {
      "image/png": "[encoded data removed]",
      "text/plain": [
       "<Figure size 432x288 with 1 Axes>"
      ]
     },
     "metadata": {},
     "output_type": "display_data"
    },
    {
     "data": {
      "image/png": "[encoded data removed]",
      "text/plain": [
       "<Figure size 432x288 with 1 Axes>"
      ]
     },
     "metadata": {},
     "output_type": "display_data"
    },
    {
     "data": {
      "image/png": "[encoded data removed]",
      "text/plain": [
       "<Figure size 432x288 with 1 Axes>"
      ]
     },
     "metadata": {},
     "output_type": "display_data"
    },
    {
     "data": {
      "image/png": "[encoded data removed]",
      "text/plain": [
       "<Figure size 432x288 with 1 Axes>"
      ]
     },
     "metadata": {},
     "output_type": "display_data"
    },
    {
     "data": {
      "image/png": "[encoded data removed]",
      "text/plain": [
       "<Figure size 432x288 with 1 Axes>"
      ]
     },
     "metadata": {},
     "output_type": "display_data"
    }
   ],
   "source": [
    "# Plot the averages and per-subject info\n",
    "\n",
    "# Histogram of AAP\n",
    "plt.hist(GroupHACRT['AAP'])\n",
    "plt.xlabel('# Pumps on unpopped balloons')\n",
    "plt.ylabel('Frequency across all subjects')\n",
    "plt.show()\n",
    "\n",
    "# Histogram of BP\n",
    "plt.hist(GroupHACRT['BP'])\n",
    "plt.xlabel('# balloons popped')\n",
    "plt.ylabel('Frequency across all subjects')\n",
    "plt.show()\n",
    "\n",
    "# Histogram of FBP\n",
    "plt.hist(GroupHACRT['FBP'])\n",
    "plt.xlabel('Fraction of all balloons, popped')\n",
    "plt.ylabel('Frequency across all subjects')\n",
    "plt.show()\n",
    "\n",
    "plt.figure()\n",
    "plt.hist(GroupHACRT['avgRT1'])\n",
    "plt.xlabel('Average RT on first pump')\n",
    "plt.hist(GroupHACRT['avgRT2'])\n",
    "plt.xlabel('Average RT on second pump')\n",
    "plt.hist(GroupHACRT['avgRT3'])\n",
    "plt.xlabel('Average RT on third pump')\n",
    "plt.hist(GroupHACRT['avgRT4'])\n",
    "plt.xlabel('Average RT on third pump')\n",
    "plt.show()\n",
    "\n",
    "plt.figure()\n",
    "plt.hist(GroupHACRT['avgRT5'])\n",
    "plt.xlabel('Average RT on first pump')\n",
    "plt.hist(GroupHACRT['avgRT6'])\n",
    "plt.xlabel('Average RT on second pump')\n",
    "plt.hist(GroupHACRT['avgRT7'])\n",
    "plt.xlabel('Average RT on third pump')\n",
    "plt.show()\n"
   ]
  },
  {
   "cell_type": "markdown",
   "metadata": {},
   "source": [
    "# History Effect Analysis "
   ]
  },
  {
   "cell_type": "code",
   "execution_count": 126,
   "metadata": {},
   "outputs": [],
   "source": [
    "# Plot the averages and per-subject info for the HISTORY EFFECT\n",
    "\n",
    "postC = GroupHACRT[GroupHACRT['HE'] == 3]\n",
    "postE = GroupHACRT[GroupHACRT['HE'] == 5]\n",
    "\n",
    "postC_RT1 = np.mean(postC['avgRT1'])\n",
    "postE_RT1 = np.mean(postE['avgRT1'])\n",
    "postC_RT2 = np.mean(postC['avgRT2'])\n",
    "postE_RT2 = np.mean(postE['avgRT2'])"
   ]
  },
  {
   "cell_type": "code",
   "execution_count": 127,
   "metadata": {},
   "outputs": [
    {
     "data": {
      "image/png": "[encoded data removed]",
      "text/plain": [
       "<Figure size 432x288 with 1 Axes>"
      ]
     },
     "metadata": {},
     "output_type": "display_data"
    },
    {
     "data": {
      "image/png": "[encoded data removed]",
      "text/plain": [
       "<Figure size 432x288 with 1 Axes>"
      ]
     },
     "metadata": {},
     "output_type": "display_data"
    }
   ],
   "source": [
    "plt.hist(postC['avgRT1'])\n",
    "plt.show()\n",
    "\n",
    "plt.hist(postE['avgRT1'])\n",
    "plt.show()"
   ]
  },
  {
   "cell_type": "code",
   "execution_count": 128,
   "metadata": {},
   "outputs": [
    {
     "data": {
      "image/png": "[encoded data removed]",
      "text/plain": [
       "<Figure size 432x288 with 1 Axes>"
      ]
     },
     "metadata": {},
     "output_type": "display_data"
    },
    {
     "data": {
      "image/png": "[encoded data removed]",
      "text/plain": [
       "<Figure size 432x288 with 1 Axes>"
      ]
     },
     "metadata": {},
     "output_type": "display_data"
    },
    {
     "name": "stdout",
     "output_type": "stream",
     "text": [
      "Ttest_indResult(statistic=-5.90006871238046, pvalue=1.948861088061682e-06)\n",
      "Ttest_indResult(statistic=2106215825594954.8, pvalue=0.0)\n"
     ]
    }
   ],
   "source": [
    "# Significance tests\n",
    "from scipy import stats\n",
    "\n",
    "# Q-Q plot to test for normal distribution\n",
    "stats.probplot(postC['avgRT1'], plot= plt)\n",
    "plt.show()\n",
    "\n",
    "stats.probplot(postE['avgRT1'], plot= plt)\n",
    "plt.show()\n",
    "\n",
    "# Paired t-test between RT ith's\n",
    "rt1_test = stats.ttest_ind(postC['avgRT1'],postE['avgRT1'], equal_var = False)\n",
    "print(rt1_test)\n",
    "\n",
    "rt2_test = stats.ttest_ind(postC['avgRT1'],postC['avgRT2'], equal_var = False)\n",
    "print(rt2_test)"
   ]
  },
  {
   "cell_type": "code",
   "execution_count": 129,
   "metadata": {},
   "outputs": [
    {
     "name": "stdout",
     "output_type": "stream",
     "text": [
      "24\n",
      "15\n",
      "Ttest_indResult(statistic=765444940626245.2, pvalue=1.1613173409795813e-262)\n"
     ]
    }
   ],
   "source": [
    "\n",
    "postC_RTs = [postC['avgRT1'],postC['avgRT2']]\n",
    "postE_RTs = [postE['avgRT1'],postE['avgRT2']]\n",
    "print(len(postC_RTs[0]))\n",
    "print(len(postE_RTs[0]))\n",
    "t = stats.ttest_ind(postC_RTs[0],postE_RTs[1], equal_var = False)\n",
    "print(t)"
   ]
  },
  {
   "cell_type": "code",
   "execution_count": 138,
   "metadata": {},
   "outputs": [
    {
     "name": "stdout",
     "output_type": "stream",
     "text": [
      "[288.0, 400.0, 425.0, 465.0, 515.0, 432.0, 394.0, 376.0, 380.0, 633.0, 442.0, 1975.0, 895.0]\n",
      "[5.0, 3.0, 5.0, 5.0, 3.0, 3.0, 5.0, 3.0, 3.0, 5.0, 3.0, 3.0, 3.0]\n",
      "(13, 2)\n",
      "[[4]]\n",
      "             precision    recall  f1-score   support\n",
      "\n",
      "          0       1.00      1.00      1.00         4\n",
      "\n",
      "avg / total       1.00      1.00      1.00         4\n",
      "\n"
     ]
    },
    {
     "data": {
      "text/plain": [
       "array([161, 187, 233, 223, 254, 215, 182, 192, 184, 293, 227, 979, 418])"
      ]
     },
     "execution_count": 138,
     "metadata": {},
     "output_type": "execute_result"
    },
    {
     "data": {
      "image/png": "[encoded data removed]",
      "text/plain": [
       "<Figure size 432x288 with 1 Axes>"
      ]
     },
     "metadata": {},
     "output_type": "display_data"
    }
   ],
   "source": [
    "import pandas as pd\n",
    "import numpy as np\n",
    "from sklearn import preprocessing\n",
    "import matplotlib.pyplot as plt \n",
    "from sklearn.linear_model import LogisticRegression\n",
    "from sklearn.cross_validation import train_test_split\n",
    "from sklearn.metrics import confusion_matrix\n",
    "import seaborn as sns\n",
    "from sklearn.metrics import classification_report\n",
    "plt.rc(\"font\", size=14)\n",
    "\n",
    "last_reaction_times = []\n",
    "for i in range(1,14):\n",
    "    for j in range(15):\n",
    "        if(reaction_times[i][14-j] != 0):\n",
    "            last_reaction_times.append(reaction_times[i][14-j])\n",
    "            break\n",
    "print(last_reaction_times)\n",
    "historical_effect = []\n",
    "for i in range(1,14):\n",
    "    historical_effect.append(sub_IP[i][3])\n",
    "data_ = np.zeros((13,2))\n",
    "for x in range(13):\n",
    "    data_[x][0] = last_reaction_times[x]\n",
    "    data_[x][1] = historical_effect[x]\n",
    "print(historical_effect)\n",
    "with open(op.join(root_path,'HACRT_'+altsub+'HISTEFFECTANALYSIS.csv'),'w') as csvfile:\n",
    "    wwriter = csv.writer(csvfile,delimiter=',')\n",
    "    wwriter.writerow(['HE','Reaction Time'])\n",
    "    for x in range(13):\n",
    "        wwriter.writerow(data_[x])\n",
    "    \n",
    "sns.set(style=\"white\")\n",
    "sns.set(style=\"whitegrid\", color_codes=True)\n",
    "data = pd.read_csv('/Users/shreyasbharadwaj/Desktop/HACRT_7787HISTEFFECTANALYSIS.csv', header=0)\n",
    "data = data.dropna()\n",
    "print(data.shape)\n",
    "sns.countplot(x='HE',data=data, palette='hls')\n",
    "data2 = pd.get_dummies(data, columns = ['HE','Reaction Time'])\n",
    "X = data2.iloc[:,5:]\n",
    "y = data2.iloc[:,1]\n",
    "X_train, X_test, y_train, y_test = train_test_split(X, y, random_state=0)\n",
    "classifier = LogisticRegression(random_state=0)\n",
    "classifier.fit(X_train, y_train)\n",
    "y_pred = classifier.predict(X_test)\n",
    "cm = confusion_matrix(y_test, y_pred)\n",
    "print(cm)\n",
    "print(classification_report(y_test, y_pred))\n",
    "\n",
    "\n",
    "regr = linear_model.LinearRegression()\n",
    "regr.fit(data_, historical_effect)\n",
    "# print('Coefficients: \\n', regr.coef_)\n",
    "np.random.binomial(last_reaction_times, 0.5)\n"
   ]
  },
  {
   "cell_type": "code",
   "execution_count": null,
   "metadata": {},
   "outputs": [],
   "source": []
  },
  {
   "cell_type": "code",
   "execution_count": null,
   "metadata": {},
   "outputs": [],
   "source": []
  },
  {
   "cell_type": "code",
   "execution_count": null,
   "metadata": {},
   "outputs": [],
   "source": []
  },
  {
   "cell_type": "code",
   "execution_count": null,
   "metadata": {},
   "outputs": [],
   "source": []
  }
 ],
 "metadata": {
  "kernelspec": {
   "display_name": "Python 3",
   "language": "python",
   "name": "python3"
  },
  "language_info": {
   "codemirror_mode": {
    "name": "ipython",
    "version": 3
   },
   "file_extension": ".py",
   "mimetype": "text/x-python",
   "name": "python",
   "nbconvert_exporter": "python",
   "pygments_lexer": "ipython3",
   "version": "3.7.0"
  }
 },
 "nbformat": 4,
 "nbformat_minor": 2
}
